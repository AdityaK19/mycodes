{
  "nbformat": 4,
  "nbformat_minor": 0,
  "metadata": {
    "colab": {
      "name": "cars_prediction.ipynb",
      "provenance": []
    },
    "kernelspec": {
      "name": "python3",
      "display_name": "Python 3"
    },
    "language_info": {
      "name": "python"
    }
  },
  "cells": [
    {
      "cell_type": "code",
      "metadata": {
        "id": "QRUofTSJ5mPC"
      },
      "source": [
        "import cv2\n",
        " \n",
        "\n",
        "cascade_src = 'cars.xml'\n",
        "\n",
        "video_src = 'video.avi'#not known\n",
        "\n",
        "cap = cv2.VideoCapture(video_src)\n",
        "\n",
        "car_cascade = cv2.CascadeClassifier(cascade_src)\n",
        "\n",
        "\n",
        "while True:\n",
        "    ret, img = cap.read()\n",
        "   \n",
        "    if (type(img) == type(None)):\n",
        "        break\n",
        "    gray = cv2.cvtColor(img, cv2.COLOR_BGR2GRAY)\n",
        "    \n",
        "    cars = car_cascade.detectMultiScale(gray, 1.1, 2)\n",
        "\n",
        "\n",
        "    for (x,y,w,h) in cars:\n",
        "        cv2.rectangle(img,(x,y),(x+w,y+h),(0,255,255),2)\n",
        "    \n",
        "    cv2.imshow('video', img)\n",
        "   \n",
        "    \n",
        "    if cv2.waitKey(33) == 27:\n",
        "        break\n",
        "\n",
        "cv2.destroyAllWindows()"
      ],
      "execution_count": null,
      "outputs": []
    }
  ]
}